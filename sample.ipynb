{
 "cells": [
  {
   "cell_type": "markdown",
   "metadata": {},
   "source": [
    "## nbautoconvert\n",
    "  Without any plugin support, convert your jupyter notebook directly to markdown (README.md)!  \n",
    "\n",
    "## Setup\n",
    "  To fireup, copy the nbautoconvert file from here to the root of your repository. Next, you need to place this pre-commit inside repo/.git/hooks/. That's it!  \n",
    "\n",
    "Freely make changes in your notebook, as from now everytime you commit any change in your notebook, your README will be automatically rendered with your notebook. This rendering also includes the outputs of notebook and will be captured inside README_files. Linking between output and README.md is also be auto-configured.  \n",
    "\n",
    "## Pre-commit hook\n",
    "\n",
    "  This pre-commit hook gets triggered even before you've set the commit message. Further more, this invokes the nbautoconvert residing at the root of the project.  \n",
    "\n",
    "## Core script\n",
    "\n",
    "  This is the main script which will perform the core work. On being invoked, this checks for all the files which have been added/modified, any file ending with \".ipynb\" will be taken into consideration and will converted to README.md using jupyter nbconvert. Again, since it's a readme file, I have added it at the root of the repo.  \n",
    "\n",
    "*Name and directory of the output markdown file can be easily configured in the nbautoconvert script.*\n",
    "\n",
    "<h4>Key notes<h4>\n",
    "    1. Name of notebook shouldn't have any spaces<br>\n",
    "\t<br>2. Pre-commit hook file shouldn't already exist<br>\n",
    "\t<br>3. Notebook should be at the root of the project<br>"
   ]
  },
  {
   "cell_type": "code",
   "execution_count": null,
   "metadata": {},
   "outputs": [],
   "source": []
  }
 ],
 "metadata": {
  "kernelspec": {
   "display_name": "Python",
   "language": "python",
   "name": "conda-env-python-py"
  },
  "language_info": {
   "codemirror_mode": {
    "name": "ipython",
    "version": 3
   },
   "file_extension": ".py",
   "mimetype": "text/x-python",
   "name": "python",
   "nbconvert_exporter": "python",
   "pygments_lexer": "ipython3",
   "version": "3.6.10"
  }
 },
 "nbformat": 4,
 "nbformat_minor": 4
}
